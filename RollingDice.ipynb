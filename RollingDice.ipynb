{
  "nbformat": 4,
  "nbformat_minor": 0,
  "metadata": {
    "colab": {
      "provenance": [],
      "authorship_tag": "ABX9TyNwjDfcgrWCfhx16rSeww5l"
    },
    "kernelspec": {
      "name": "python3",
      "display_name": "Python 3"
    },
    "language_info": {
      "name": "python"
    }
  },
  "cells": [
    {
      "cell_type": "markdown",
      "source": [
        "# 🎲 Rolling Dice Normal Distribution\n",
        "\n",
        "In today's lecture, we plotted a series of samples taken when summing two six sided dice together. In this Colab Notebook, we will explore the relationship between sample and population normal distributions.\n",
        "\n",
        "\n",
        "## Let's get started! 😀"
      ],
      "metadata": {
        "id": "GFjAanE1C1EM"
      }
    },
    {
      "cell_type": "code",
      "execution_count": null,
      "metadata": {
        "id": "t04FtsT4tvtB"
      },
      "outputs": [],
      "source": [
        "import pandas as pd\n",
        "import io\n",
        "import scipy as sc\n",
        "from scipy import stats\n",
        "import numpy as np\n",
        "import matplotlib.pyplot as plt"
      ]
    },
    {
      "cell_type": "markdown",
      "source": [
        "# Round 1"
      ],
      "metadata": {
        "id": "LFo3hDeH6pRJ"
      }
    },
    {
      "cell_type": "markdown",
      "source": [
        "In the following cell, all of the sum of the dice rolls has been entered. For example if in the first round, two 2's and three 4's were rolled, we would set `number_2:2` and `number_4:3`.\n",
        "From there, the average and standard deviation are calculated and will print after running the code."
      ],
      "metadata": {
        "id": "-i-ueNt8-8HM"
      }
    },
    {
      "cell_type": "code",
      "source": [
        "# @title Round 1 Results { display-mode: \"form\" }\n",
        "number_2=0 # @param {type:\"number\"}\n",
        "number_3=0 # @param {type:\"number\"}\n",
        "number_4=0 # @param {type:\"number\"}\n",
        "number_5=0 # @param {type:\"number\"}\n",
        "number_6=0 # @param {type:\"number\"}\n",
        "number_7=0 # @param {type:\"number\"}\n",
        "number_8=0 # @param {type:\"number\"}\n",
        "number_9=0 # @param {type:\"number\"}\n",
        "number_10=0 # @param {type:\"number\"}\n",
        "number_11=0 # @param {type:\"number\"}\n",
        "number_12=0# @param {type:\"number\"}\n",
        "data=[2] * number_2 + [3] * number_3 + [4] * number_4 + [5] * number_5 + [6] * number_6 + [7] * number_7 + [8] * number_8 + [9] * number_9 + [10] * number_10 + [11] * number_11 + [12] * number_12\n",
        "data = pd.DataFrame(data)\n",
        "length=len(data)\n",
        "sum_of_rolls=data[0]\n",
        "average=sum_of_rolls.mean()\n",
        "standard_deviation=sum_of_rolls.std()\n",
        "print('For Round 1,{:3.0f} total rolls results in a sample average of {:3.4f} with a standard deviation of {:3.4f}.'.format(length, average, standard_deviation))\n",
        "\n",
        "plt.hist(sum_of_rolls, color = \"gold\", edgecolor='black', bins=[2, 3, 4, 5, 6, 7, 8, 9, 10, 11, 12, 13])\n",
        "plt.title(\"Round 1 \\n Sum of Rolling Two Six-Sided Dice\")\n",
        "plt.xlabel(\"Sum of Dice\")\n",
        "plt.ylabel(\"Number of Observations\")"
      ],
      "metadata": {
        "id": "USP36Mzu93yC"
      },
      "execution_count": null,
      "outputs": []
    },
    {
      "cell_type": "markdown",
      "source": [
        "# Round 2"
      ],
      "metadata": {
        "id": "FVjl8aZu_6T-"
      }
    },
    {
      "cell_type": "code",
      "source": [
        "# @title Round 2 Results { display-mode: \"form\" }\n",
        "number_2=0 # @param {type:\"number\"}\n",
        "number_3=0 # @param {type:\"number\"}\n",
        "number_4=0 # @param {type:\"number\"}\n",
        "number_5=0 # @param {type:\"number\"}\n",
        "number_6=0 # @param {type:\"number\"}\n",
        "number_7=0 # @param {type:\"number\"}\n",
        "number_8=0 # @param {type:\"number\"}\n",
        "number_9=0 # @param {type:\"number\"}\n",
        "number_10=0 # @param {type:\"number\"}\n",
        "number_11=0 # @param {type:\"number\"}\n",
        "number_12=0# @param {type:\"number\"}\n",
        "data=[2] * number_2 + [3] * number_3 + [4] * number_4 + [5] * number_5 + [6] * number_6 + [7] * number_7 + [8] * number_8 + [9] * number_9 + [10] * number_10 + [11] * number_11 + [12] * number_12\n",
        "data = pd.DataFrame(data)\n",
        "length=len(data)\n",
        "sum_of_rolls=data[0]\n",
        "average=sum_of_rolls.mean()\n",
        "standard_deviation=sum_of_rolls.std()\n",
        "print('For Round 2,{:3.0f} total rolls results in a sample average of {:3.4f} with a standard deviation of {:3.4f}.'.format(length, average, standard_deviation))\n",
        "\n",
        "plt.hist(sum_of_rolls, color = \"gold\", edgecolor='black', bins=[2, 3, 4, 5, 6, 7, 8, 9, 10, 11, 12, 13])\n",
        "plt.title(\" Round 2 \\n Sum of Rolling Two Six-Sided Dice\")\n",
        "plt.xlabel(\"Sum of Dice\")\n",
        "plt.ylabel(\"Number of Observations\")"
      ],
      "metadata": {
        "id": "3nJ1-gNh__q8"
      },
      "execution_count": null,
      "outputs": []
    },
    {
      "cell_type": "markdown",
      "source": [
        "# Round 3"
      ],
      "metadata": {
        "id": "ThenrOmsAKjl"
      }
    },
    {
      "cell_type": "code",
      "source": [
        "# @title Round 3 Results { display-mode: \"form\" }\n",
        "number_2=0 # @param {type:\"number\"}\n",
        "number_3=0 # @param {type:\"number\"}\n",
        "number_4=0 # @param {type:\"number\"}\n",
        "number_5=0 # @param {type:\"number\"}\n",
        "number_6=0 # @param {type:\"number\"}\n",
        "number_7=0 # @param {type:\"number\"}\n",
        "number_8=0 # @param {type:\"number\"}\n",
        "number_9=0 # @param {type:\"number\"}\n",
        "number_10=0 # @param {type:\"number\"}\n",
        "number_11=0 # @param {type:\"number\"}\n",
        "number_12=0# @param {type:\"number\"}\n",
        "data=[2] * number_2 + [3] * number_3 + [4] * number_4 + [5] * number_5 + [6] * number_6 + [7] * number_7 + [8] * number_8 + [9] * number_9 + [10] * number_10 + [11] * number_11 + [12] * number_12\n",
        "data = pd.DataFrame(data)\n",
        "length=len(data)\n",
        "sum_of_rolls=data[0]\n",
        "average=sum_of_rolls.mean()\n",
        "standard_deviation=sum_of_rolls.std()\n",
        "print('For Round 3,{:3.0f} total rolls results in a sample average of {:3.4f} with a standard deviation of {:3.4f}.'.format(length, average, standard_deviation))\n",
        "\n",
        "plt.hist(sum_of_rolls, color = \"gold\", edgecolor='black', bins=[2, 3, 4, 5, 6, 7, 8, 9, 10, 11, 12, 13])\n",
        "plt.title(\"Round 3 \\n Sum of Rolling Two Six-Sided Dice\")\n",
        "plt.xlabel(\"Sum of Dice\")\n",
        "plt.ylabel(\"Number of Observations\")"
      ],
      "metadata": {
        "id": "8HbodMrAAOcv"
      },
      "execution_count": null,
      "outputs": []
    },
    {
      "cell_type": "markdown",
      "source": [
        "Next, we can plot the normal distribution on top of the histogram (with a red line), by assuming the sample average and standard deviation are equal to the population average and standard deviation.\n",
        "\n",
        "`h` has been added to scale the height of the normal distribution that is plotted. This `h` value does not have a physical meaning for us."
      ],
      "metadata": {
        "id": "J9u-oX_1_7Tq"
      }
    },
    {
      "cell_type": "code",
      "source": [
        "# { display-mode: \"form\" }\n",
        "x=np.linspace(1,13,100)\n",
        "h=50 # @param {type:\"integer\"}\n",
        "normal_distribution= h*1.0/(standard_deviation*(np.sqrt(2*np.pi)))*np.exp((-0.5*((x-average)/(standard_deviation))**2))\n",
        "plt.hist(sum_of_rolls, color = \"gold\", edgecolor='black', bins=[2, 3, 4, 5, 6, 7, 8, 9, 10, 11, 12, 13])\n",
        "plt.title(\"Sum of Rolling Two Six-Sided Dice\")\n",
        "plt.xlabel(\"Sum of Dice\")\n",
        "plt.ylabel(\"Number of Observations\")\n",
        "plt.plot(x,normal_distribution,'r')"
      ],
      "metadata": {
        "id": "kimswRVUwQZE",
        "cellView": "form"
      },
      "execution_count": null,
      "outputs": []
    },
    {
      "cell_type": "markdown",
      "source": [
        "For taking the sum of rolling dice, we actually know what the average and standard deviation of the population should be, using the following equations.\n",
        "\n",
        "<font color='blue'>$$\\text{Population Average}=\\mu=n\\times\\left(\\frac{y+1}{2}\\right)$$\n",
        "\n",
        "<font color='blue'>$$\\text{Population Standard Deviation}=\\sigma=\\sqrt{n\\times\\left(\\frac{(y+1)(2y+1)}{6}-\\left(\\frac{y+1}{2}\\right)^2\\right)}$$\n",
        "\n",
        "<font color='blue'> Where $y$ is the number of sides on the dice and $n$ is the number of dice that are being summed together. For example, in this example we summed together 2 six-sided dice, so, `y=6` and `n=2`."
      ],
      "metadata": {
        "id": "gbMm7AIUA5nY"
      }
    },
    {
      "cell_type": "markdown",
      "source": [
        "The following cell, will calculate the theoretical average and standard devation of the population.\n",
        "\n",
        "Set `y:6` and `n:2` since we rolled 2 six-sided dice."
      ],
      "metadata": {
        "id": "DwO52kIFCir8"
      }
    },
    {
      "cell_type": "code",
      "source": [
        "# { display-mode: \"form\" }\n",
        "y=6 # @param {type:\"integer\"}\n",
        "n=2 # @param {type:\"integer\"}\n",
        "\n",
        "theoretical_average=((y+1)/2)*n\n",
        "theoretical_standard_deviation=np.sqrt(n*(((y+1)*(2*y+1)/6)-((y+1)/2)**2))\n",
        "print('The theoretical population average is {:3.4f} with a standard deviation of {:3.4f}.'.format(theoretical_average, theoretical_standard_deviation))"
      ],
      "metadata": {
        "id": "w8XYnMpf1zMc",
        "cellView": "form"
      },
      "execution_count": null,
      "outputs": []
    },
    {
      "cell_type": "markdown",
      "source": [
        "This next cell will plot the theoretical population normal distribution (in blue) over our histogram and sample normal distribution.\n",
        "\n",
        "Once again, `h` has been added to scale the height of the normal distribution that is plotted. This `h` value does not have a physical meaning for us."
      ],
      "metadata": {
        "id": "gUYtvYONCqJz"
      }
    },
    {
      "cell_type": "code",
      "source": [
        "# { display-mode: \"form\" }\n",
        "x=np.linspace(1,13,100)\n",
        "h=50 # @param {type:\"integer\"}\n",
        "normal_distribution= h*1.0/(standard_deviation*(np.sqrt(2*np.pi)))*np.exp((-0.5*((x-average)/(standard_deviation))**2))\n",
        "plt.hist(sum_of_rolls, color = \"gold\", edgecolor='black', bins=[2, 3, 4, 5, 6, 7, 8, 9, 10, 11, 12, 13])\n",
        "plt.title(\"Sum of Rolling Two Six-Sided Dice\")\n",
        "plt.xlabel(\"Sum of Dice\")\n",
        "plt.ylabel(\"Number of Observations\")\n",
        "theoretical_normal_distribution= h*1.0/(theoretical_standard_deviation*(np.sqrt(2*np.pi)))*np.exp((-0.5*((x-theoretical_average)/(theoretical_standard_deviation))**2))\n",
        "plt.plot(x,normal_distribution,'r',label='sample norm dist')\n",
        "plt.plot(x,theoretical_normal_distribution,'b',label='population norm dist')\n",
        "plt.legend(loc=\"best\")"
      ],
      "metadata": {
        "id": "2NBL_YHB8-_h",
        "cellView": "form"
      },
      "execution_count": null,
      "outputs": []
    }
  ]
}
