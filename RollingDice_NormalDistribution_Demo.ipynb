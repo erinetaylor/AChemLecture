{
  "nbformat": 4,
  "nbformat_minor": 0,
  "metadata": {
    "colab": {
      "provenance": [],
      "authorship_tag": "ABX9TyPkYDaIbKN7UGVxfyNtd1H1",
      "include_colab_link": true
    },
    "kernelspec": {
      "name": "python3",
      "display_name": "Python 3"
    },
    "language_info": {
      "name": "python"
    }
  },
  "cells": [
    {
      "cell_type": "markdown",
      "metadata": {
        "id": "view-in-github",
        "colab_type": "text"
      },
      "source": [
        "<a href=\"https://colab.research.google.com/github/erinetaylor/AChemLecture/blob/main/CHEM211_RollingDice_NormalDistribution_Demo.ipynb\" target=\"_parent\"><img src=\"https://colab.research.google.com/assets/colab-badge.svg\" alt=\"Open In Colab\"/></a>"
      ]
    },
    {
      "cell_type": "markdown",
      "source": [
        "# 🎲 Rolling Dice Normal Distribution\n",
        "\n",
        "In this Colab Notebook, we will explore the relationship between sample and population normal distributions.\n",
        "\n",
        "\n",
        "## Let's get started! 😀"
      ],
      "metadata": {
        "id": "GFjAanE1C1EM"
      }
    },
    {
      "cell_type": "code",
      "execution_count": null,
      "metadata": {
        "id": "t04FtsT4tvtB"
      },
      "outputs": [],
      "source": [
        "#Import all necessary packages\n",
        "\n",
        "import pandas as pd\n",
        "import io\n",
        "import scipy as sc\n",
        "from scipy import stats\n",
        "import numpy as np\n",
        "import matplotlib.pyplot as plt"
      ]
    },
    {
      "cell_type": "markdown",
      "source": [
        "In the following cell, all of the sum of the dice rolls has been entered as \"data\".\n",
        "From there, the average and standard deviation are calculated and will print after running the code."
      ],
      "metadata": {
        "id": "-i-ueNt8-8HM"
      }
    },
    {
      "cell_type": "code",
      "source": [
        "# Initialize an empty list for the datasets\n",
        "data = []\n",
        "rolls=0\n",
        "\n",
        "# Ask the user what the smallest number is that they want to enter\n",
        "min_value = int(input(\"What is the smallest number you want to input?\"))\n",
        "\n",
        "# Ask the user how many different values they want to enter\n",
        "num_values = int(input(\"How many different values do you want to input? \"))\n",
        "\n",
        "# Calculating the max value\n",
        "max_value = min_value+num_values-1\n",
        "# Iterate to get each value and its count\n",
        "\n",
        "for i in range(num_values):\n",
        "    value = int(min_value+i)\n",
        "    count = int(input(f\"Enter the count for {value}: \"))\n",
        "    data.extend([value] * count)  # Add the value 'count' times to the dataset\n",
        "    rolls=rolls+count\n",
        "\n",
        "# Print the resulting dataset\n",
        "print(\"The resulting dataset is:\", data)"
      ],
      "metadata": {
        "id": "I9lDBxRFDbWc"
      },
      "execution_count": null,
      "outputs": []
    },
    {
      "cell_type": "code",
      "source": [
        "#This will convert our data into a more calculatable form\n",
        "data = pd.DataFrame(data)\n",
        "sum_of_rolls=data[0]\n",
        "\n",
        "#Here we are going to calculate the average sum of rolls\n",
        "average=sum_of_rolls.mean()\n",
        "\n",
        "#Here we are going to calculate the standard deviation for the sum of rolls\n",
        "standard_deviation=sum_of_rolls.std()\n",
        "\n",
        "# This is going to print out the average and standard deviation in a nice, readable format.\n",
        "print('After{:3.0f} total rolls, the sample average is {:3.4f} with a standard deviation of {:3.4f}.'.format(rolls, average, standard_deviation))"
      ],
      "metadata": {
        "id": "21mQ6Lxlt2E-"
      },
      "execution_count": null,
      "outputs": []
    },
    {
      "cell_type": "markdown",
      "source": [
        "In the next cell, a histogram will be generated which shows the number of observations of each sum of two dice.\n",
        "\n",
        "`n_bins` has been set to be the number of different sums we expect. For adding together two six-sided dice, we expect 11 different possibilities (2,3,4,5,6,7,8,9,10,11, and 12)."
      ],
      "metadata": {
        "id": "r-RUNNuW_Xu9"
      }
    },
    {
      "cell_type": "code",
      "source": [
        "# Now we are going to plot a histogram.\n",
        "plt.hist(sum_of_rolls, bins=range(min_value-1,max_value+2), color = \"teal\", edgecolor='black')\n",
        "\n",
        "# This sets the tick marks range and interval\n",
        "plt.xticks(range(0, 13, 1))\n",
        "\n",
        "# This sets the figure title\n",
        "plt.title(\"Sum of Rolling Two Six-Sided Dice\")\n",
        "\n",
        "# This sets the x-axis label\n",
        "plt.xlabel(\"Sum of Dice\")\n",
        "\n",
        "# This sets the y-axis label\n",
        "plt.ylabel(\"Number of Observations\");"
      ],
      "metadata": {
        "id": "cdd4Bw2E20Dd"
      },
      "execution_count": null,
      "outputs": []
    },
    {
      "cell_type": "markdown",
      "source": [
        "Next, we can plot the normal distribution on top of the histogram (with a red line), by assuming the sample average and standard deviation are equal to the population average and standard deviation."
      ],
      "metadata": {
        "id": "J9u-oX_1_7Tq"
      }
    },
    {
      "cell_type": "code",
      "source": [
        "counts, bins, _ = plt.hist(sum_of_rolls, bins=range(0,14), color = \"teal\", edgecolor='black')\n",
        "\n",
        "# This creates a list of regularly spaced x-values so that we can generate a normal distribution based on our roll data\n",
        "x=np.linspace(min_value-1,min_value+num_values+1,100)\n",
        "\n",
        "# This is the function for a normal distribution that includes our roll data average and standard deviation\n",
        "normal_distribution= 1.0/(standard_deviation*(np.sqrt(2*np.pi)))*np.exp((-0.5*((x-average)/(standard_deviation))**2))\n",
        "\n",
        "#This scales our roll data normal distribution function so that we can overlay the histogram and normal distribution\n",
        "normal_distribution_scaled=normal_distribution * max(counts) / max(normal_distribution)\n",
        "\n",
        "plt.xticks(range(0, 13, 1))\n",
        "plt.title(\"Sum of Rolling Two Six-Sided Dice\")\n",
        "plt.xlabel(\"Sum of Dice\")\n",
        "plt.ylabel(\"Number of Observations\")\n",
        "\n",
        "# This plots the normal distribution based on our roll data\n",
        "plt.plot(x,normal_distribution_scaled,'r')"
      ],
      "metadata": {
        "id": "kimswRVUwQZE"
      },
      "execution_count": null,
      "outputs": []
    },
    {
      "cell_type": "markdown",
      "source": [
        "For taking the sum of rolling dice, we actually know what the average and standard deviation of the population should be, using the following equations.\n",
        "\n",
        "<font color='green'>$$\\text{Population Average}=\\mu=n\\times\\left(\\frac{y+1}{2}\\right)$$\n",
        "\n",
        "<font color='green'>$$\\text{Population Standard Deviation}=\\sigma=\\sqrt{n\\times\\left(\\frac{(y+1)(2y+1)}{6}-\\left(\\frac{y+1}{2}\\right)^2\\right)}$$\n",
        "\n",
        "<font color='green'> Where $y$ is the number of sides on the dice and $n$ is the number of dice that are being summed together. For example, in this example we summed together 2 six-sided dice, so, `y=6` and `n=2`."
      ],
      "metadata": {
        "id": "gbMm7AIUA5nY"
      }
    },
    {
      "cell_type": "markdown",
      "source": [
        "The following cell, will calculate the theoretical average and standard devation of the population."
      ],
      "metadata": {
        "id": "DwO52kIFCir8"
      }
    },
    {
      "cell_type": "code",
      "source": [
        "# This is a calculator that allows us to calculate the theoretical average and standard deviation of the sum from rolling certain die\n",
        "y=6 #type of dice (6=six-sided dice)\n",
        "n=2 #number of dice being rolled\n",
        "\n",
        "theoretical_average=((y+1)/2)*n\n",
        "theoretical_standard_deviation=np.sqrt(n*(((y+1)*(2*y+1)/6)-((y+1)/2)**2))\n",
        "print('The theoretical population average is {:3.4f} with a standard deviation of {:3.4f}.'.format(theoretical_average, theoretical_standard_deviation))"
      ],
      "metadata": {
        "id": "w8XYnMpf1zMc"
      },
      "execution_count": null,
      "outputs": []
    },
    {
      "cell_type": "markdown",
      "source": [
        "This next cell will plot the theoretical population normal distribution (in blue) over our histogram and sample normal distribution."
      ],
      "metadata": {
        "id": "gUYtvYONCqJz"
      }
    },
    {
      "cell_type": "code",
      "source": [
        "counts, bins, _ = plt.hist(sum_of_rolls, bins=range(0,13), color = \"teal\", edgecolor='black')\n",
        "\n",
        "# This is the function for the theoretical normal distribution that uses the theoretical average and standard deviation from the calculator above\n",
        "theoretical_normal_distribution= 1.0/(theoretical_standard_deviation*(np.sqrt(2*np.pi)))*np.exp((-0.5*((x-theoretical_average)/(theoretical_standard_deviation))**2))\n",
        "\n",
        "# This scales the theoretical normal distribution function so that we can overlay the histogram and normal distribution\n",
        "theoretical_normal_distribution_scaled=theoretical_normal_distribution * max(counts) / max(theoretical_normal_distribution)\n",
        "\n",
        "plt.xticks(range(0, 13, 1))\n",
        "plt.title(\"Sum of Rolling Two Six-Sided Dice\")\n",
        "plt.xlabel(\"Sum of Dice\")\n",
        "plt.ylabel(\"Number of Observations\")\n",
        "plt.plot(x,normal_distribution_scaled,'r',label='Sample Normal Distribution')\n",
        "plt.plot(x,theoretical_normal_distribution_scaled,'b', label='Theoretical Normal Distribution')\n",
        "\n",
        "# This adds a legend to our graph. Change loc to 0-best, 1-upper right, 2-upper left, 3-lower left, and 4-lower right.\n",
        "plt.legend(loc=0);"
      ],
      "metadata": {
        "id": "lqCPrInJIgud"
      },
      "execution_count": null,
      "outputs": []
    }
  ]
}
