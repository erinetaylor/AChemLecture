{
  "nbformat": 4,
  "nbformat_minor": 0,
  "metadata": {
    "colab": {
      "provenance": [],
      "authorship_tag": "ABX9TyPpQQm4WR6arkrpJGg/SlCE"
    },
    "kernelspec": {
      "name": "python3",
      "display_name": "Python 3"
    },
    "language_info": {
      "name": "python"
    }
  },
  "cells": [
    {
      "cell_type": "markdown",
      "source": [
        "# 🎲 Rolling Dice Normal Distribution\n",
        "\n",
        "In Lecture 4, we plotted a series of samples taken when summing two six sided dice together. In this Colab Notebook, we will explore the relationship between sample and population normal distributions.\n",
        "\n",
        "\n",
        "## Let's get started! 😀"
      ],
      "metadata": {
        "id": "GFjAanE1C1EM"
      }
    },
    {
      "cell_type": "code",
      "execution_count": null,
      "metadata": {
        "id": "t04FtsT4tvtB"
      },
      "outputs": [],
      "source": [
        "import pandas as pd\n",
        "import io\n",
        "import scipy as sc\n",
        "from scipy import stats\n",
        "import numpy as np\n",
        "import matplotlib.pyplot as plt"
      ]
    },
    {
      "cell_type": "markdown",
      "source": [
        "In the following cell, all of the sum of the dice rolls has been entered as \"data\".\n",
        "From there, the average and standard deviation are calculated and will print after running the code."
      ],
      "metadata": {
        "id": "-i-ueNt8-8HM"
      }
    },
    {
      "cell_type": "code",
      "source": [
        "data=[2,2,2,3,3,3,3,4,4,4,4,5,5,5,5,5,6,6,6,6,6,6,6,6,6,6,6,6,6,7,7,7,7,7,7,7,7,7,7,7,7,7,8,8,8,8,8,8,8,8,8,8,8,9,9,9,9,9,9,9,9,9,10,10,10,10,10,10,10,10,10,11,11,11,11,11,11,12,12]\n",
        "data = pd.DataFrame(data)\n",
        "sum_of_rolls=data[0]\n",
        "average=sum_of_rolls.mean()\n",
        "standard_deviation=sum_of_rolls.std()\n",
        "print('The sample average is {:3.4f} with a standard deviation of {:3.4f}.'.format(average, standard_deviation))"
      ],
      "metadata": {
        "id": "21mQ6Lxlt2E-"
      },
      "execution_count": null,
      "outputs": []
    },
    {
      "cell_type": "markdown",
      "source": [
        "In the next cell, a histogram will be generated which shows the number of observations of each sum of two dice.\n",
        "\n",
        "`n_bins` has been set to be the number of different sums we expect. For adding together two six-sided dice, we expect 11 different possibilities (2,3,4,5,6,7,8,9,10,11, and 12)."
      ],
      "metadata": {
        "id": "r-RUNNuW_Xu9"
      }
    },
    {
      "cell_type": "code",
      "source": [
        "n_bins=11\n",
        "plt.hist(sum_of_rolls, bins=n_bins, color = \"gold\", edgecolor='black') #Orville Redenbacher Unpopped Data\n",
        "plt.title(\"Sum of Rolling Two Six-Sided Dice\")\n",
        "plt.xlabel(\"Sum of Dice\")\n",
        "plt.ylabel(\"Number of Observations\")"
      ],
      "metadata": {
        "id": "cdd4Bw2E20Dd"
      },
      "execution_count": null,
      "outputs": []
    },
    {
      "cell_type": "markdown",
      "source": [
        "Next, we can plot the normal distribution on top of the histogram (with a red line), by assuming the sample average and standard deviation are equal to the population average and standard deviation."
      ],
      "metadata": {
        "id": "J9u-oX_1_7Tq"
      }
    },
    {
      "cell_type": "code",
      "source": [
        "x=np.linspace(sum_of_rolls.min(),sum_of_rolls.max(),100)\n",
        "h=80\n",
        "normal_distribution= h*1.0/(standard_deviation*(np.sqrt(2*np.pi)))*np.exp((-0.5*((x-average)/(standard_deviation))**2))\n",
        "n_bins=11\n",
        "plt.hist(sum_of_rolls, bins=n_bins, color = \"gold\", edgecolor='black') #Orville Redenbacher Unpopped Data\n",
        "plt.title(\"Sum of Rolling Two Six-Sided Dice\")\n",
        "plt.xlabel(\"Sum of Dice\")\n",
        "plt.ylabel(\"Number of Observations\")\n",
        "plt.plot(x,normal_distribution,'r')"
      ],
      "metadata": {
        "id": "kimswRVUwQZE"
      },
      "execution_count": null,
      "outputs": []
    },
    {
      "cell_type": "markdown",
      "source": [
        "For taking the sum of rolling dice, we actually know what the average and standard deviation of the population should be, using the following equations.\n",
        "\n",
        "<font color='blue'>$$\\text{Population Average}=\\mu=n\\times\\left(\\frac{y+1}{2}\\right)$$\n",
        "\n",
        "<font color='blue'>$$\\text{Population Standard Deviation}=\\sigma=\\sqrt{n\\times\\left(\\frac{(y+1)(2y+1)}{6}-\\left(\\frac{y+1}{2}\\right)^2\\right)}$$\n",
        "\n",
        "<font color='blue'> Where $y$ is the number of sides on the dice and $n$ is the number of dice that are being summed together. For example, in this example we summed together 2 six-sided dice, so, `y=6` and `n=2`."
      ],
      "metadata": {
        "id": "gbMm7AIUA5nY"
      }
    },
    {
      "cell_type": "markdown",
      "source": [
        "The following cell, will calculate the theoretical average and standard devation of the population."
      ],
      "metadata": {
        "id": "DwO52kIFCir8"
      }
    },
    {
      "cell_type": "code",
      "source": [
        "y=6 #type of dice (6=six-sided dice)\n",
        "n=2 #number of dice being rolled\n",
        "\n",
        "theoretical_average=((y+1)/2)*n\n",
        "theoretical_standard_deviation=np.sqrt(n*(((y+1)*(2*y+1)/6)-((y+1)/2)**2))\n",
        "print('The theoretical population average is {:3.4f} with a standard deviation of {:3.4f}.'.format(theoretical_average, theoretical_standard_deviation))"
      ],
      "metadata": {
        "id": "w8XYnMpf1zMc"
      },
      "execution_count": null,
      "outputs": []
    },
    {
      "cell_type": "markdown",
      "source": [
        "This next cell will plot the theoretical population normal distribution (in blue) over our histogram and sample normal distribution."
      ],
      "metadata": {
        "id": "gUYtvYONCqJz"
      }
    },
    {
      "cell_type": "code",
      "source": [
        "x=np.linspace(2,12,55)\n",
        "normal_distribution= h*1.0/(standard_deviation*(np.sqrt(2*np.pi)))*np.exp((-0.5*((x-average)/(standard_deviation))**2))\n",
        "theoretical_normal_distribution= h*1.0/(theoretical_standard_deviation*(np.sqrt(2*np.pi)))*np.exp((-0.5*((x-theoretical_average)/(theoretical_standard_deviation))**2))\n",
        "n_bins=11\n",
        "plt.hist(sum_of_rolls, bins=n_bins, color = \"gold\", edgecolor='black') #Orville Redenbacher Unpopped Data\n",
        "plt.title(\"Sum of Rolling Two Six-Sided Dice\")\n",
        "plt.xlabel(\"Sum of Dice\")\n",
        "plt.ylabel(\"Number of Observations\")\n",
        "plt.plot(x,normal_distribution,'r',label='sample norm dist')\n",
        "plt.plot(x,theoretical_normal_distribution,'b',label='population norm dist')\n",
        "plt.legend(loc=\"best\")"
      ],
      "metadata": {
        "id": "2NBL_YHB8-_h"
      },
      "execution_count": null,
      "outputs": []
    },
    {
      "cell_type": "code",
      "source": [],
      "metadata": {
        "id": "YblA1Y5_LPlD"
      },
      "execution_count": null,
      "outputs": []
    }
  ]
}